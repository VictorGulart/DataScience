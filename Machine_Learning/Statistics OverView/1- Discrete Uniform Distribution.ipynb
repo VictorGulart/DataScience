{
 "cells": [
  {
   "cell_type": "markdown",
   "metadata": {},
   "source": [
    " A random var x has a discrete uniform distribution if each of the n values in its range (x1, x2, x3... n), has equal probability"
   ]
  },
  {
   "cell_type": "code",
   "execution_count": 2,
   "metadata": {},
   "outputs": [],
   "source": [
    "import numpy as np\n",
    "from numpy.random import randn\n",
    "import pandas as pd\n",
    "from scipy import stats\n",
    "import matplotlib as mlp\n",
    "import matplotlib.pyplot as plt\n",
    "import seaborn as sns\n",
    "%matplotlib inline"
   ]
  },
  {
   "cell_type": "code",
   "execution_count": 4,
   "metadata": {},
   "outputs": [
    {
     "data": {
      "text/plain": [
       "Text(0.5,1,'Probability Mass FUnction for Dice Roll')"
      ]
     },
     "execution_count": 4,
     "metadata": {},
     "output_type": "execute_result"
    },
    {
     "data": {
      "image/png": "[encoded data removed]",
      "text/plain": [
       "<Figure size 432x288 with 1 Axes>"
      ]
     },
     "metadata": {},
     "output_type": "display_data"
    }
   ],
   "source": [
    "# set up a dice roll and plot the distribution\n",
    "\n",
    "# let's check the probability mass function\n",
    "\n",
    "roll_ops = [1,2,3,4,5,6] # each number\n",
    "tprob = 1 # total probability\n",
    "prob_roll = tprob / len(roll_ops) # each rol has same odds of appearing\n",
    "uni_plot = sns.rugplot(roll_ops, height=prob_roll, c='indianred')\n",
    "uni_plot.set_title('Probability Mass FUnction for Dice Roll')"
   ]
  },
  {
   "cell_type": "markdown",
   "metadata": {},
   "source": [
    "mean and variance of this uniform distribution ??\n",
    "mean is the max and min value divided by two just like the mean of two numbers\n",
    "\n",
    "$$\\mu = \\frac{(b + a)}{2} $$\n",
    "\n",
    "The variance is a measurement of the spread between numbers in a data set, it measures how far each number is in the set from the mean and therefore from every other number in the set.\n",
    "\n",
    "Equation for variance:\n",
    "$$ \\sigma^2 = \\frac{(b - a +1)^2 -1}{12}$$\n",
    "\n",
    "where:\n",
    "b is max\n",
    "a is min"
   ]
  },
  {
   "cell_type": "code",
   "execution_count": 5,
   "metadata": {},
   "outputs": [],
   "source": [
    "# using scipy to create a discrete uniform distribution\n",
    "from scipy.stats import randint\n",
    "\n",
    "# set low, high boundaries\n",
    "low, high = 1,7\n",
    "\n",
    "# get mean and variance\n",
    "mean, var = randint.stats(low,high)"
   ]
  },
  {
   "cell_type": "code",
   "execution_count": 13,
   "metadata": {},
   "outputs": [
    {
     "name": "stdout",
     "output_type": "stream",
     "text": [
      "Mean:  3.5\n"
     ]
    }
   ],
   "source": [
    "print('Mean: ', np.around(mean, 4))"
   ]
  },
  {
   "cell_type": "code",
   "execution_count": 17,
   "metadata": {},
   "outputs": [
    {
     "data": {
      "text/plain": [
       "3.14322"
      ]
     },
     "execution_count": 17,
     "metadata": {},
     "output_type": "execute_result"
    }
   ],
   "source": [
    "# testing np.around which might be better than round from python\n",
    "np.around(3.1432245, 5)"
   ]
  },
  {
   "cell_type": "code",
   "execution_count": 18,
   "metadata": {},
   "outputs": [
    {
     "data": {
      "text/plain": [
       "<BarContainer object of 6 artists>"
      ]
     },
     "execution_count": 18,
     "metadata": {},
     "output_type": "execute_result"
    },
    {
     "data": {
      "image/png": "[encoded data removed]",
      "text/plain": [
       "<Figure size 432x288 with 1 Axes>"
      ]
     },
     "metadata": {},
     "output_type": "display_data"
    }
   ],
   "source": [
    "# using pyplot to plot a bar graph\n",
    "plt.bar(roll_ops, randint.pmf(roll_ops, low, high))"
   ]
  },
  {
   "cell_type": "code",
   "execution_count": null,
   "metadata": {},
   "outputs": [],
   "source": []
  }
 ],
 "metadata": {
  "kernelspec": {
   "display_name": "Python 3",
   "language": "python",
   "name": "python3"
  },
  "language_info": {
   "codemirror_mode": {
    "name": "ipython",
    "version": 3
   },
   "file_extension": ".py",
   "mimetype": "text/x-python",
   "name": "python",
   "nbconvert_exporter": "python",
   "pygments_lexer": "ipython3",
   "version": "3.6.5"
  }
 },
 "nbformat": 4,
 "nbformat_minor": 2
}
