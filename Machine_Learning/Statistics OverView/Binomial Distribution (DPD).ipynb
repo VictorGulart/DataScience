{
 "cells": [
  {
   "cell_type": "markdown",
   "metadata": {},
   "source": [
    "How to classify a binomial experiment?\n",
    "Needs the following conditions\n",
    "\n",
    "1) The process consists of a sequence of n trials\n",
    "\n",
    "2) Only two exclusive outcomes are possible for each trial ( a success and a failure)\n",
    "\n",
    "3) if the probability of a success is 'p' then the prob of failure is q=1-p\n",
    "\n",
    "4) the trials are independent \n",
    "\n",
    "\n",
    "The formula for a Binomial Prob Mass Function turns out to be:\n",
    "\n",
    "$$ Pr(X = k) = C(n,k)p^k (1-p)^{n-k} $$\n",
    "\n",
    "where:\n",
    "n = number of trials\n",
    "k = number of successes \n",
    "p = probability of failure\n",
    "\n",
    "This means that to get exacly 'k' successes in 'n' trials, we want exacly 'k' sucesses: and we want 'n-k' failures\n",
    "\n",
    "Then finaly, there are \n",
    " $$ C(n,k) $$\n",
    " \n",
    "This is combinations: it is a way to calculate the total outcome of an event where order of the outcomes does not matter.\n",
    "\n",
    "The previous expression is the sames as:\n",
    "$$ C(n,k) = \\frac{n!}{k!(n-k)!}$$\n",
    "\n",
    "\n",
    "ways of putting 'k' sucess in 'n' trial. So we multiply all these together to get the probability of exactly that many success and failures in those n trials!"
   ]
  },
  {
   "cell_type": "markdown",
   "metadata": {},
   "source": [
    "Example\n",
    "Two players playing basketball.\n",
    "Player A takes an average of 11 shots per game and has an average success rate of 72%.\n",
    "Player B takes an average of 15 shot per game and has an average success rate of 48%.\n",
    "\n",
    "Whats the probability that player A makes 6 shots in an average game?\n",
    "Whats the probability that player B makes 6 shots in an average game?"
   ]
  },
  {
   "cell_type": "code",
   "execution_count": 14,
   "metadata": {},
   "outputs": [],
   "source": [
    "import numpy as np"
   ]
  },
  {
   "cell_type": "code",
   "execution_count": 17,
   "metadata": {},
   "outputs": [],
   "source": [
    "import scipy.special as sc\n",
    "\n",
    "k = 6 # make 6 shots - objective \n",
    "\n",
    "# Set player A\n",
    "p_A = 0.72 # prob of success\n",
    "n_A = 11 # shots for A\n",
    "comb_A = sc.comb(n_A, k) # set up C(n,k)\n",
    "ans_A = comb_A * (p_A**k) * ((1-p_A)**(n_A-k))# calculation of the expression\n",
    "ans_A = 100 * ans_A # percentage form \n",
    "\n",
    "# Do it for B\n",
    "p_B = 0.48 # prob of success\n",
    "n_B = 15 # shots for A\n",
    "comb_B = sc.comb(n_B, k) # set up C(n,k)\n",
    "ans_B = comb_B * (p_B**k) * ((1-p_B)**(n_B-k)) # calculation of the expression\n",
    "ans_B = 100 * ans_B # percentage form"
   ]
  },
  {
   "cell_type": "code",
   "execution_count": 18,
   "metadata": {},
   "outputs": [
    {
     "name": "stdout",
     "output_type": "stream",
     "text": [
      "Prob of A 11.08%\n",
      "Prob of B 17.02%\n"
     ]
    }
   ],
   "source": [
    "print(f'Prob of A {np.around(ans_A, 2)}%\\nProb of B {np.around(ans_B, 2)}%')"
   ]
  },
  {
   "cell_type": "markdown",
   "metadata": {},
   "source": [
    "so we now know that event though player B is technically a worse shooter, because he/she takes more shots he/she will have a higher change of making 6 shots in an average game\n",
    "\n",
    "But, what about a higher amount of shot, will player's A higher probability take a stronger effect then? What's the probability of making 9 shots a game for each player"
   ]
  },
  {
   "cell_type": "code",
   "execution_count": 19,
   "metadata": {},
   "outputs": [
    {
     "name": "stdout",
     "output_type": "stream",
     "text": [
      "Prob of A 22.42%\n",
      "Prob of B 13.38%\n"
     ]
    }
   ],
   "source": [
    "k = 9 # make 6 shots - objective \n",
    "\n",
    "# Set player A\n",
    "p_A = 0.72 # prob of success\n",
    "n_A = 11 # shots for A\n",
    "comb_A = sc.comb(n_A, k) # set up C(n,k)\n",
    "ans_A = comb_A * (p_A**k) * ((1-p_A)**(n_A-k))# calculation of the expression\n",
    "ans_A = 100 * ans_A # percentage form \n",
    "\n",
    "# Do it for B\n",
    "p_B = 0.48 # prob of success\n",
    "n_B = 15 # shots for A\n",
    "comb_B = sc.comb(n_B, k) # set up C(n,k)\n",
    "ans_B = comb_B * (p_B**k) * ((1-p_B)**(n_B-k)) # calculation of the expression\n",
    "ans_B = 100 * ans_B # percentage form\n",
    "\n",
    "print(f'Prob of A {np.around(ans_A, 2)}%\\nProb of B {np.around(ans_B, 2)}%')"
   ]
  },
  {
   "cell_type": "markdown",
   "metadata": {},
   "source": [
    "Mean of the binomial distribution:\n",
    " \n",
    "$$ \\mu = n * p $$\n",
    "\n",
    "This intuitively makes sense, the avg number of successes shoulf be the total trial multiplied by yout average success rate.\n",
    "\n",
    "Similarly we can see that the standard deviation of a binomial is:\n",
    "\n",
    "$$ \\sigma = \\sqrt{n * p * q} $$\n",
    "\n",
    "Now we can ask, what the average number of shots each plapyer will make in a game +/- a standard distribution"
   ]
  },
  {
   "cell_type": "code",
   "execution_count": 24,
   "metadata": {},
   "outputs": [
    {
     "name": "stdout",
     "output_type": "stream",
     "text": [
      "Player A will make an avg of 8.0 +- 1.0 shots per game\n",
      "Player B will make an avg of 7.0 +- 2.0 shots per game\n"
     ]
    }
   ],
   "source": [
    "# get the mean \n",
    "\n",
    "mu_A = n_A * p_A\n",
    "mu_B = n_B * p_B\n",
    "\n",
    "# get the standard deviation\n",
    "sigma_A =( n_A * p_A * (1 - p_A) )**0.5\n",
    "sigma_B =( n_B * p_B * (1 - p_B) )**0.5\n",
    "\n",
    "print(f'Player A will make an avg of {np.around(mu_A)} +- {np.around(sigma_A)} shots per game')\n",
    "print(f'Player B will make an avg of {np.around(mu_B)} +- {np.around(sigma_B)} shots per game')"
   ]
  },
  {
   "cell_type": "code",
   "execution_count": 25,
   "metadata": {},
   "outputs": [
    {
     "name": "stdout",
     "output_type": "stream",
     "text": [
      "Mean 7.92\n",
      "Standard deviation 1.4891608375189027\n"
     ]
    }
   ],
   "source": [
    "# Automatically calculate with stats from scipy\n",
    "from scipy.stats import binom\n",
    "\n",
    "mean, var = binom.stats(n_A, p_A)\n",
    "print('Mean', mean)\n",
    "print('Standard deviation', var**0.5)"
   ]
  },
  {
   "cell_type": "markdown",
   "metadata": {},
   "source": [
    "Imagine flipping a coin. The probability of getting heads is p=0.5 (success in this example)\n",
    "\n",
    "So waht does the probability mass function look like for 10 coin flips?\n"
   ]
  },
  {
   "cell_type": "code",
   "execution_count": 26,
   "metadata": {},
   "outputs": [
    {
     "name": "stdout",
     "output_type": "stream",
     "text": [
      "[0.00097656 0.00976563 0.04394531 0.1171875  0.20507813 0.24609375\n",
      " 0.20507813 0.1171875  0.04394531 0.00976563 0.00097656]\n"
     ]
    }
   ],
   "source": [
    "# getting the probability mass function PMF\n",
    "\n",
    "#set new example, n = 10 coin flips and p = .5 fo a fair coin\n",
    "\n",
    "n = 10\n",
    "p = 0.5\n",
    "\n",
    "# set up n sucesses, remember indexing starts at 0, so use n+1\n",
    "x = range(n+1)\n",
    "\n",
    "# Now create the probability mass function \n",
    "y = binom.pmf(x, n, p)\n",
    "\n",
    "print(y)"
   ]
  },
  {
   "cell_type": "code",
   "execution_count": 29,
   "metadata": {},
   "outputs": [
    {
     "data": {
      "text/plain": [
       "Text(0,0.5,'Probability')"
      ]
     },
     "execution_count": 29,
     "metadata": {},
     "output_type": "execute_result"
    },
    {
     "data": {
      "image/png": "[encoded data removed]",
      "text/plain": [
       "<Figure size 432x288 with 1 Axes>"
      ]
     },
     "metadata": {},
     "output_type": "display_data"
    }
   ],
   "source": [
    "# let's plot the binomial distribution to get the full picture\n",
    "import matplotlib.pyplot as plt\n",
    "%matplotlib inline\n",
    "\n",
    "plt.plot(x,y,'o')\n",
    "plt.title('Binomial Distribution PMF: 10 coin flips, Odds of success for heads is p=0.5', y=1.08)\n",
    "\n",
    "# Axis titles\n",
    "plt.xlabel('Number of heads')\n",
    "plt.ylabel('Probability')"
   ]
  },
  {
   "cell_type": "code",
   "execution_count": null,
   "metadata": {},
   "outputs": [],
   "source": []
  }
 ],
 "metadata": {
  "kernelspec": {
   "display_name": "Python 3",
   "language": "python",
   "name": "python3"
  },
  "language_info": {
   "codemirror_mode": {
    "name": "ipython",
    "version": 3
   },
   "file_extension": ".py",
   "mimetype": "text/x-python",
   "name": "python",
   "nbconvert_exporter": "python",
   "pygments_lexer": "ipython3",
   "version": "3.6.5"
  }
 },
 "nbformat": 4,
 "nbformat_minor": 2
}
