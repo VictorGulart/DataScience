{
 "cells": [
  {
   "cell_type": "markdown",
   "metadata": {},
   "source": [
    "Poisson Distribution\n",
    "\n",
    "Focuses on the number of discrete event or occurrences over a specified interval or continuum (e.g. time, length, distance, etc..) \n",
    "\n",
    "Formal definition: A discrete variable X has a poisson distribution with paramenter $$ \\lambda $$ if for k=0,1,2..., the probability mass function of x is given by:\n",
    "\n",
    "$$ Pr(X - k) = \\frac{\\lambda^k\\epsilon^{-\\lambda}}{k!} $$\n",
    "\n",
    "where:\n",
    "e is Euler's number (e=2,718)\n",
    "k! is the factiorial of k\n",
    "\n",
    "\n",
    "Poisson Distribution has the following characteristics:\n",
    "\n",
    "1) Discrete outcomes (x=0,1,2,3,...);\n",
    "\n",
    "2) The number od occurrences can range from zero to infinity (theoretically);\n",
    "\n",
    "3) It describes the distribution of infrequent (rare) events;\n",
    "\n",
    "4) Each event is independent of the other events;\n",
    "\n",
    "5) Describes discrete events over an interval such as a time or distance;\n",
    "\n",
    "6) The expected number of occurrences E(x) are assumed to be constant throughout the experiment."
   ]
  },
  {
   "cell_type": "markdown",
   "metadata": {},
   "source": [
    "Example question:\n",
    "\n",
    "MacDonald's has a lunch rush from 12:30pm to 1:00pm. From looking at customer sales from previous days, we know that on average 10 customers enter during 12:30pm to 1:00pm. \n",
    "<br> \n",
    "1) What is the probability that exacly 7 customers enter during lunch\n",
    "rush?\n",
    "<br>\n",
    "2) What is the probability that more than 10 customers arrive?"
   ]
  },
  {
   "cell_type": "markdown",
   "metadata": {},
   "source": [
    "Let's begin by thinking about how many customers we expect to come into the shop during lunch time. We have that information already. It's 10. This means that the mean is 10, then our expected value E(x) = 10. In the poisson distribution this is λ. So the mean = λ for a Poisson Distribution, it's the expected number of occurrences over the specified interval\n",
    "\n",
    "So since we now knopw what λ is, we can plug the information into the probability mass function and get an answer, let's use python and see how this works. "
   ]
  },
  {
   "cell_type": "code",
   "execution_count": 5,
   "metadata": {},
   "outputs": [],
   "source": [
    "import math\n",
    "import numpy as np"
   ]
  },
  {
   "cell_type": "code",
   "execution_count": 10,
   "metadata": {},
   "outputs": [
    {
     "name": "stdout",
     "output_type": "stream",
     "text": [
      "There's 9.01% chance that exactly 7 customers show up at the lunch time!\n"
     ]
    }
   ],
   "source": [
    "# Start answering the first question.\n",
    "\n",
    "##\n",
    "### This is how to do it manually\n",
    "##\n",
    "\n",
    "\n",
    "# set lambda\n",
    "lamb = 10\n",
    "\n",
    "# k is the number of occurrences\n",
    "k=7\n",
    "\n",
    "# this is the pmf of poisson distribution\n",
    "prob = (lamb**k)*math.exp(-lamb)/math.factorial(k)\n",
    "\n",
    "print(f\"There's {np.around(100*prob, 2)}% chance that exactly 7 customers show up at the lunch time!\")\n"
   ]
  },
  {
   "cell_type": "code",
   "execution_count": 11,
   "metadata": {},
   "outputs": [],
   "source": [
    "from scipy.stats import poisson"
   ]
  },
  {
   "cell_type": "code",
   "execution_count": 15,
   "metadata": {},
   "outputs": [
    {
     "name": "stdout",
     "output_type": "stream",
     "text": [
      "Chance of 7 customers is 9.01\n",
      "The mean is 10.0\n"
     ]
    }
   ],
   "source": [
    "##\n",
    "### Doing it automatically with stats\n",
    "## \n",
    "\n",
    "mu = 10 # this is the mean, same as lambda\n",
    "mean,var = poisson.stats(mu) # getting mean and variance\n",
    "\n",
    "# calculate the PMF at specific points, such as odds of exactly 7 customers\n",
    "odd_seven = poisson.pmf(7, mu)\n",
    "\n",
    "print(f'Chance of 7 customers is {np.around(100*odd_seven,2)}')\n",
    "print(f'The mean is {mean}')"
   ]
  },
  {
   "cell_type": "markdown",
   "metadata": {},
   "source": [
    "What if we want to see the entire distribution? We'll need this information to answer the second question."
   ]
  },
  {
   "cell_type": "code",
   "execution_count": 17,
   "metadata": {},
   "outputs": [],
   "source": [
    "# let's get the pmf and plot it\n",
    "\n",
    "# let's say we want the PMF all the way to 30 customers\n",
    "k = np.arange(30)\n",
    "\n",
    "# avg of 10 customers for the time interval\n",
    "lamb = 10\n",
    "\n",
    "# the PMF we'll use to plot\n",
    "pmf_pois = poisson.pmf(k, lamb)"
   ]
  },
  {
   "cell_type": "code",
   "execution_count": 18,
   "metadata": {},
   "outputs": [
    {
     "data": {
      "text/plain": [
       "<BarContainer object of 30 artists>"
      ]
     },
     "execution_count": 18,
     "metadata": {},
     "output_type": "execute_result"
    },
    {
     "data": {
      "image/png": "[encoded data removed]",
      "text/plain": [
       "<Figure size 432x288 with 1 Axes>"
      ]
     },
     "metadata": {
      "needs_background": "light"
     },
     "output_type": "display_data"
    }
   ],
   "source": [
    "import matplotlib.pyplot as plt\n",
    "import seaborn as sns\n",
    "%matplotlib inline\n",
    "\n",
    "plt.bar(k, pmf_pois)"
   ]
  },
  {
   "cell_type": "markdown",
   "metadata": {},
   "source": [
    "What is the probability that more than 10 customers arrive?\n",
    "We need to sum up all the values of every bar past 10.\n",
    "This can be done by using a Cumilative Distribution Function (CDF). This describes the probability that a random variable x with a given probability distribution (such as the poisson in this current case) will be found to have a value less than or equal to x.\n",
    "<br>\n",
    "What this means is if we use the CDF to calculate the probability of 10 or less customers showing up we can take that probability and subtract it from the total probability space, which is just 1."
   ]
  },
  {
   "cell_type": "code",
   "execution_count": 23,
   "metadata": {},
   "outputs": [
    {
     "name": "stdout",
     "output_type": "stream",
     "text": [
      "The prob of <=10 customers is 58.3%\n"
     ]
    }
   ],
   "source": [
    "# scipy has a built in CDF we can use\n",
    "\n",
    "k,mu = 10,10\n",
    "prob_10 = poisson.cdf(k,mu)\n",
    "print(f'The prob of <=10 customers is {np.around(100*prob_10,2)}%')"
   ]
  },
  {
   "cell_type": "code",
   "execution_count": 25,
   "metadata": {},
   "outputs": [
    {
     "name": "stdout",
     "output_type": "stream",
     "text": [
      "Probability of >10 customers is 41.7%\n"
     ]
    }
   ],
   "source": [
    "# Now that we have the prob of 10 or less customers\n",
    "# we can answer the next question\n",
    "\n",
    "prob_more_10 = 1-prob_10\n",
    "print(f'Probability of >10 customers is {np.around(100*prob_more_10,2)}%')"
   ]
  },
  {
   "cell_type": "code",
   "execution_count": null,
   "metadata": {},
   "outputs": [],
   "source": []
  }
 ],
 "metadata": {
  "kernelspec": {
   "display_name": "Python 3",
   "language": "python",
   "name": "python3"
  },
  "language_info": {
   "codemirror_mode": {
    "name": "ipython",
    "version": 3
   },
   "file_extension": ".py",
   "mimetype": "text/x-python",
   "name": "python",
   "nbconvert_exporter": "python",
   "pygments_lexer": "ipython3",
   "version": "3.7.6"
  }
 },
 "nbformat": 4,
 "nbformat_minor": 4
}
