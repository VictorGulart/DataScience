{
 "cells": [
  {
   "cell_type": "code",
   "execution_count": 1,
   "metadata": {},
   "outputs": [],
   "source": [
    "# Intro to normal distribution"
   ]
  },
  {
   "cell_type": "markdown",
   "metadata": {},
   "source": [
    "Defined by the probability density function\n",
    "\n",
    "$$ f(x,\\mu,\\sigma) = \\frac{1}{\\sigma\\sqrt{2\\pi}}e^{\\frac{-1}{2z^2}} $$\n",
    "\n",
    "where:\n",
    "\n",
    "$$ z = \\frac{(X - \\mu)}{\\sigma} $$\n",
    "\n",
    "μ = mean;\n",
    "σ = standard deviation\n",
    "π = pi (3,14..)\n",
    "e = euler (2.718..)\n",
    "<br>\n",
    "The total area bounded by the curve of the probability density function equation and the X axis is 1; thus the area under the curve between two ordinates X=a and X=bm where a<b, represents the probability that X lies between a and b. This probability can be expressed as:\n",
    "\n",
    "$$ Pr(a < X < b) $$\n",
    "\n",
    "Let's look at the curve"
   ]
  },
  {
   "cell_type": "code",
   "execution_count": 2,
   "metadata": {},
   "outputs": [],
   "source": [
    "from IPython.display import Image\n",
    "Image(url='')"
   ]
  },
  {
   "cell_type": "code",
   "execution_count": null,
   "metadata": {},
   "outputs": [],
   "source": []
  }
 ],
 "metadata": {
  "kernelspec": {
   "display_name": "Python 3",
   "language": "python",
   "name": "python3"
  },
  "language_info": {
   "codemirror_mode": {
    "name": "ipython",
    "version": 3
   },
   "file_extension": ".py",
   "mimetype": "text/x-python",
   "name": "python",
   "nbconvert_exporter": "python",
   "pygments_lexer": "ipython3",
   "version": "3.7.6"
  }
 },
 "nbformat": 4,
 "nbformat_minor": 4
}
